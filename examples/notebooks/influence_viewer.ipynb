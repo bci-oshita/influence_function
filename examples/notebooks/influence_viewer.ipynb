{
 "cells": [
  {
   "cell_type": "code",
   "execution_count": 1,
   "metadata": {},
   "outputs": [
    {
     "name": "stderr",
     "output_type": "stream",
     "text": [
      "Duplicate key in file PosixPath('/usr/local/lib/python3.10/site-packages/matplotlib/mpl-data/matplotlibrc'), line 786 ('font.family: IPAexGothic')\n"
     ]
    }
   ],
   "source": [
    "import joblib\n",
    "import numpy\n",
    "import torch\n",
    "import pandas\n",
    "import polars as pl\n",
    "\n",
    "from matplotlib import pyplot"
   ]
  },
  {
   "cell_type": "code",
   "execution_count": 2,
   "metadata": {},
   "outputs": [
    {
     "data": {
      "text/plain": [
       "10"
      ]
     },
     "execution_count": 2,
     "metadata": {},
     "output_type": "execute_result"
    }
   ],
   "source": [
    "# results = joblib.load(\"../backend/result/analyzed_influence-01.gz\")\n",
    "results = joblib.load(\"../backend/result/analyzed_influence-02.gz\")\n",
    "len(results)"
   ]
  },
  {
   "cell_type": "code",
   "execution_count": 6,
   "metadata": {},
   "outputs": [
    {
     "name": "stdout",
     "output_type": "stream",
     "text": [
      "idx=0 k='zero'\n",
      "idx=1 k='one'\n",
      "idx=2 k='two'\n",
      "idx=3 k='three'\n",
      "idx=4 k='four'\n",
      "idx=5 k='five'\n",
      "idx=6 k='six'\n",
      "idx=7 k='seven'\n",
      "idx=8 k='eight'\n",
      "idx=9 k='nine'\n"
     ]
    }
   ],
   "source": [
    "# result = results[\"airplane\"]\n",
    "for idx, k in enumerate(results.keys()):\n",
    "    print(f\"{idx=} {k}\")\n",
    "\n",
    "# len(results)\n"
   ]
  },
  {
   "cell_type": "code",
   "execution_count": null,
   "metadata": {},
   "outputs": [],
   "source": [
    "from app.executable.influence.examples.run_train import g_class_names, load_data\n",
    "\n",
    "trainloader, testloader = load_data(do_shuffle=False)"
   ]
  },
  {
   "cell_type": "code",
   "execution_count": null,
   "metadata": {},
   "outputs": [],
   "source": [
    "def _to_image_data(x: torch.Tensor):\n",
    "    return (((x.permute(1, 2, 0) + 1.0) / 2.) * 255.).cpu().numpy().astype(numpy.uint8)\n"
   ]
  },
  {
   "cell_type": "code",
   "execution_count": null,
   "metadata": {},
   "outputs": [],
   "source": [
    "def show_train_images(samples: list, influence: list, to_influence_index: list, trainloader, n_rows: int, n_cols: int, title=\"train images\"):\n",
    "    n = n_rows * n_cols\n",
    "    fig = pyplot.figure(figsize=(6, 6))\n",
    "    pyplot.rcParams[\"font.size\"] = 4\n",
    "    pyplot.axis(\"off\")\n",
    "    pyplot.title(f\"{title}\\n\\n\")\n",
    "    axes = []\n",
    "    for idx, train_idx in enumerate(samples[:n]):\n",
    "        z = trainloader.dataset[train_idx]\n",
    "        x, t = z\n",
    "        influence_value = influence[to_influence_index[train_idx]]\n",
    "        ax = fig.add_subplot(n_rows, n_cols, idx + 1)\n",
    "        ax.axis(\"off\")\n",
    "        axes.append(ax)\n",
    "        train_label = g_class_names[t]\n",
    "        axes[-1].set_title(f\"{idx + 1}. {train_label} : {train_idx}\\n({influence_value:0.3f})\")  \n",
    "        train_image = _to_image_data(x)\n",
    "        pyplot.imshow(train_image)\n",
    "    fig.tight_layout()    \n",
    "    pyplot.show()\n",
    "\n",
    "\n"
   ]
  },
  {
   "cell_type": "code",
   "execution_count": null,
   "metadata": {},
   "outputs": [],
   "source": [
    "def show_image(x, label):\n",
    "    test_image = _to_image_data(x)\n",
    "    fig = pyplot.figure(figsize=(3, 3))\n",
    "    pyplot.axis(\"off\")\n",
    "    pyplot.title(f\"test label: {g_class_names[label]}\")\n",
    "    pyplot.imshow(test_image)\n",
    "    pyplot.show()\n"
   ]
  },
  {
   "cell_type": "code",
   "execution_count": null,
   "metadata": {},
   "outputs": [],
   "source": [
    "def show_influenced_image(test_x, test_label, influence, helpful, harmful, to_influence_index, trainloader):\n",
    "    n_rows = 4\n",
    "    n_cols = 5\n",
    "\n",
    "    n = n_rows * n_cols\n",
    "\n",
    "\n",
    "    # show test image\n",
    "    show_image(test_x, test_label)\n",
    "\n",
    "    # show helpful images\n",
    "    show_train_images(helpful, influence, to_influence_index, trainloader, n_rows, n_cols, title=\"helpful train images ranking\")\n",
    "\n",
    "    # show harmful images\n",
    "    show_train_images(harmful, influence, to_influence_index, trainloader, n_rows, n_cols, title=\"harmful train images ranking\")\n",
    "\n"
   ]
  },
  {
   "cell_type": "code",
   "execution_count": null,
   "metadata": {},
   "outputs": [],
   "source": [
    "# NOTE: 複数のテストデータ点にまたがって、harmful, helpful の画像も特定できるようにしたい"
   ]
  },
  {
   "cell_type": "code",
   "execution_count": null,
   "metadata": {},
   "outputs": [],
   "source": [
    "testset = testloader.dataset\n",
    "\n",
    "for lbl, rankings in results.items():\n",
    "    for rec in rankings:\n",
    "        test_idx, influence_values, helpful_train_indices, harmful_train_indices, to_influence_index, test_estimation = rec\n",
    "        test_z = testloader.dataset[test_idx]\n",
    "        test_x, test_t = test_z\n",
    "        print(\"=\" * 100)\n",
    "        show_influenced_image(test_x, test_t, influence_values, helpful_train_indices, harmful_train_indices, to_influence_index, trainloader)"
   ]
  },
  {
   "cell_type": "code",
   "execution_count": null,
   "metadata": {},
   "outputs": [],
   "source": []
  }
 ],
 "metadata": {
  "kernelspec": {
   "display_name": "Python 3",
   "language": "python",
   "name": "python3"
  },
  "language_info": {
   "codemirror_mode": {
    "name": "ipython",
    "version": 3
   },
   "file_extension": ".py",
   "mimetype": "text/x-python",
   "name": "python",
   "nbconvert_exporter": "python",
   "pygments_lexer": "ipython3",
   "version": "3.10.9"
  },
  "orig_nbformat": 4,
  "vscode": {
   "interpreter": {
    "hash": "949777d72b0d2535278d3dc13498b2535136f6dfe0678499012e853ee9abcab1"
   }
  }
 },
 "nbformat": 4,
 "nbformat_minor": 2
}
