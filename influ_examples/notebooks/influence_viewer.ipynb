{
 "cells": [
  {
   "cell_type": "code",
   "execution_count": null,
   "metadata": {},
   "outputs": [],
   "source": [
    "import joblib\n",
    "import numpy\n",
    "import torch\n",
    "import pandas\n",
    "import polars as pl\n",
    "\n",
    "from matplotlib import pyplot"
   ]
  },
  {
   "cell_type": "code",
   "execution_count": null,
   "metadata": {},
   "outputs": [],
   "source": [
    "from influ_examples.components.datasets import DatasetType\n",
    "\n",
    "dataset_type = DatasetType.cifar10\n",
    "# dataset_type = DatasetType.mnist\n",
    "\n",
    "results = joblib.load(f\"../../result/analyzed_influence-{dataset_type.value}.gz\")\n",
    "len(results)"
   ]
  },
  {
   "cell_type": "code",
   "execution_count": null,
   "metadata": {},
   "outputs": [],
   "source": [
    "for idx, k in enumerate(results.keys()):\n",
    "    print(f\"{idx=} {k}\")\n"
   ]
  },
  {
   "cell_type": "code",
   "execution_count": null,
   "metadata": {},
   "outputs": [],
   "source": [
    "if dataset_type == DatasetType.mnist:\n",
    "    from influ_examples.components.datasets.mnist import g_class_names, load_data\n",
    "    from influ_examples.components.models.model_mnist import SimpleModelMnist\n",
    "\n",
    "    SimpleModel = SimpleModelMnist\n",
    "elif dataset_type == DatasetType.cifar10:\n",
    "    from influ_examples.components.datasets.cifar10 import g_class_names, load_data\n",
    "    from influ_examples.components.models.model_cifar10 import SimpleModelCifar10\n",
    "\n",
    "    SimpleModel = SimpleModelCifar10\n",
    "else:\n",
    "    raise NotImplementedError(f\"{dataset_type.value=}\")\n",
    "\n",
    "trainloader, testloader = load_data(do_shuffle=False)"
   ]
  },
  {
   "cell_type": "code",
   "execution_count": null,
   "metadata": {},
   "outputs": [],
   "source": [
    "def _to_image_data(x: torch.Tensor):\n",
    "    return (((x.permute(1, 2, 0) + 1.0) / 2.) * 255.).cpu().numpy().astype(numpy.uint8)\n"
   ]
  },
  {
   "cell_type": "code",
   "execution_count": null,
   "metadata": {},
   "outputs": [],
   "source": [
    "def show_train_images(samples: list, influence: list, to_influence_index: list, trainloader, n_rows: int, n_cols: int, title=\"train images\"):\n",
    "    n = n_rows * n_cols\n",
    "    fig = pyplot.figure(figsize=(6, 6))\n",
    "    pyplot.rcParams[\"font.size\"] = 5\n",
    "    pyplot.axis(\"off\")\n",
    "    pyplot.title(f\"{title}\\n\\n\")\n",
    "    axes = []\n",
    "    for idx, train_idx in enumerate(samples[:n]):\n",
    "        z = trainloader.dataset[train_idx]\n",
    "        x, t = z\n",
    "        influence_value = influence[to_influence_index[train_idx]]\n",
    "        ax = fig.add_subplot(n_rows, n_cols, idx + 1)\n",
    "        ax.axis(\"off\")\n",
    "        axes.append(ax)\n",
    "        train_label = g_class_names[t]\n",
    "        axes[-1].set_title(f\"{idx + 1}. {train_label} : {train_idx}\\n({influence_value:0.3f})\")  \n",
    "        train_image = _to_image_data(x)\n",
    "        pyplot.imshow(train_image)\n",
    "    fig.tight_layout()    \n",
    "    pyplot.show()\n",
    "\n",
    "\n"
   ]
  },
  {
   "cell_type": "code",
   "execution_count": null,
   "metadata": {},
   "outputs": [],
   "source": [
    "def show_image(x, label):\n",
    "    test_image = _to_image_data(x)\n",
    "    fig = pyplot.figure(figsize=(3, 3))\n",
    "    pyplot.rcParams[\"font.size\"] = 5\n",
    "    pyplot.axis(\"off\")\n",
    "    pyplot.title(f\"test label: {g_class_names[label]}\")\n",
    "    pyplot.imshow(test_image)\n",
    "    pyplot.show()\n"
   ]
  },
  {
   "cell_type": "code",
   "execution_count": null,
   "metadata": {},
   "outputs": [],
   "source": [
    "def show_influenced_image(test_x, test_label, influence, helpful, harmful, to_influence_index, trainloader):\n",
    "    n_rows = 4\n",
    "    n_cols = 5\n",
    "\n",
    "    n = n_rows * n_cols\n",
    "\n",
    "\n",
    "    # show test image\n",
    "    show_image(test_x, test_label)\n",
    "\n",
    "    # show helpful images\n",
    "    show_train_images(helpful, influence, to_influence_index, trainloader, n_rows, n_cols, title=\"helpful train images ranking\")\n",
    "\n",
    "    # show harmful images\n",
    "    show_train_images(harmful, influence, to_influence_index, trainloader, n_rows, n_cols, title=\"harmful train images ranking\")\n",
    "\n"
   ]
  },
  {
   "cell_type": "code",
   "execution_count": null,
   "metadata": {},
   "outputs": [],
   "source": [
    "# NOTE: 複数のテストデータ点にまたがって、harmful, helpful の画像も特定できるようにしたい"
   ]
  },
  {
   "cell_type": "code",
   "execution_count": null,
   "metadata": {},
   "outputs": [],
   "source": [
    "testset = testloader.dataset\n",
    "\n",
    "for lbl, rankings in results.items():\n",
    "    for rec in rankings:\n",
    "        test_idx, influence_values, helpful_train_indices, harmful_train_indices, to_influence_index, test_estimation = rec\n",
    "        test_z = testloader.dataset[test_idx]\n",
    "        test_x, test_t = test_z\n",
    "        print(\"=\" * 100)\n",
    "        show_influenced_image(test_x, test_t, influence_values, helpful_train_indices, harmful_train_indices, to_influence_index, trainloader)"
   ]
  },
  {
   "cell_type": "code",
   "execution_count": null,
   "metadata": {},
   "outputs": [],
   "source": []
  }
 ],
 "metadata": {
  "kernelspec": {
   "display_name": "lab",
   "language": "python",
   "name": "python3"
  },
  "language_info": {
   "codemirror_mode": {
    "name": "ipython",
    "version": 3
   },
   "file_extension": ".py",
   "mimetype": "text/x-python",
   "name": "python",
   "nbconvert_exporter": "python",
   "pygments_lexer": "ipython3",
   "version": "3.10.10"
  },
  "orig_nbformat": 4,
  "vscode": {
   "interpreter": {
    "hash": "e20c0ad1c47dce2d0805e2168285bf49639e013ed4876fe98fd0d06a6d786443"
   }
  }
 },
 "nbformat": 4,
 "nbformat_minor": 2
}
